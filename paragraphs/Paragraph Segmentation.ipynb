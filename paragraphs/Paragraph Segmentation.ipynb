{
 "cells": [
  {
   "cell_type": "code",
   "execution_count": 125,
   "metadata": {
    "collapsed": false,
    "deletable": true,
    "editable": true
   },
   "outputs": [],
   "source": [
    "from sklearn.ensemble import RandomForestClassifier\n",
    "import glob\n",
    "from nltk import word_tokenize\n",
    "from nltk import sent_tokenize\n",
    "import pickle\n",
    "import codecs"
   ]
  },
  {
   "cell_type": "code",
   "execution_count": 185,
   "metadata": {
    "collapsed": false,
    "deletable": true,
    "editable": true
   },
   "outputs": [],
   "source": [
    "PATH_TO_CORPUS = '../segmenter/training-files/*.txt'  # corpus before it has been tokenized/tagged\n",
    "files = glob.glob(PATH_TO_CORPUS)\n",
    "fin_pun = {'.': 0, '!': 1, '?': 3, 'OTHER': 4}"
   ]
  },
  {
   "cell_type": "code",
   "execution_count": 127,
   "metadata": {
    "collapsed": false
   },
   "outputs": [],
   "source": [
    "def segment(file):\n",
    "    \"\"\"Segment a text file into paragraphs, ignoring those that are too short (1 sentence only)\"\"\"\n",
    "    with codecs.open(file, \"r\",encoding='utf-8', errors='ignore') as f:\n",
    "        text = f.read()\n",
    "        paragraphs = text.split('\\n')\n",
    "    return [sentences for sentences in text.split('\\n') if  ('.' in sentences and sentences.strip()[-1] != '.') or sentences.count('.') > 1]"
   ]
  },
  {
   "cell_type": "code",
   "execution_count": 186,
   "metadata": {
    "collapsed": true
   },
   "outputs": [],
   "source": [
    "def _get_vec(paragraph):\n",
    "    \"\"\"Get training vector for a single paragraph\"\"\"\n",
    "    sentences = sent_tokenize(paragraph)\n",
    "    ret = []\n",
    "    cumm_Ds = 0\n",
    "    cumm_Dw = 0\n",
    "    Fin_Pun = 0\n",
    "    for sentence in sentences:\n",
    "        delta_s = 1\n",
    "        delta_w = len(word_tokenize(sentence))\n",
    "        fp = sentence.strip()[-1]\n",
    "        if fp in fin_pun:\n",
    "            fp = fin_pun[fp]\n",
    "        else:\n",
    "            fp = fin_pun['OTHER']\n",
    "        ret.append({\n",
    "            'D_s': cumm_Ds + delta_s,\n",
    "            'D_w': cumm_Dw + delta_w,\n",
    "            'Length': delta_w,\n",
    "            'EndOfP': 0,\n",
    "            'FinPun': fp\n",
    "        })\n",
    "        cumm_Ds += delta_s\n",
    "        cumm_Dw += delta_w\n",
    "    ret[-1]['EndOfP'] = 1\n",
    "    return ret"
   ]
  },
  {
   "cell_type": "code",
   "execution_count": 187,
   "metadata": {
    "collapsed": false
   },
   "outputs": [],
   "source": [
    "def make_training_vectors(paras):\n",
    "    \"\"\"\n",
    "    Convert a list of paragraphs to a training vector\n",
    "    \n",
    "    The features come from http://homepages.inf.ed.ac.uk/mlap/Papers/emnlp04.pdf.\n",
    "    \"\"\"\n",
    "    #total_length = sum([len(sent_tokenize(para)) for para in paras])\n",
    "    X = []\n",
    "    Y = []\n",
    "    for para in paras:\n",
    "        vecs = _get_vec(para)\n",
    "        for vec in vecs:\n",
    "            X.append([vec['D_s'], vec['D_w'], vec['Length'], vec['FinPun']])\n",
    "            Y.append([vec['EndOfP']])\n",
    "    return (X, Y)"
   ]
  },
  {
   "cell_type": "code",
   "execution_count": 80,
   "metadata": {
    "collapsed": true
   },
   "outputs": [],
   "source": [
    "def flatten(l):\n",
    "    return [item for sublist in l for item in sublist]"
   ]
  },
  {
   "cell_type": "code",
   "execution_count": 229,
   "metadata": {
    "collapsed": false
   },
   "outputs": [],
   "source": [
    "X_train = []\n",
    "Y_train = []\n",
    "X_val = []\n",
    "Y_val = []\n",
    "for i in range(600):\n",
    "    paras = segment(files[i])\n",
    "    x, y = make_training_vectors(paras)\n",
    "    if i % 5 != 0:\n",
    "        X_train += x\n",
    "        Y_train.append(y)\n",
    "    else:\n",
    "        X_val += x\n",
    "        Y_val.append(y)\n",
    "Y_train = flatten(flatten(Y_train))\n",
    "Y_val = flatten(flatten(Y_val))\n"
   ]
  },
  {
   "cell_type": "code",
   "execution_count": 230,
   "metadata": {
    "collapsed": false
   },
   "outputs": [],
   "source": [
    "clf = RandomForestClassifier(n_estimators=10)\n",
    "clf = clf.fit(X_train, Y_train)"
   ]
  },
  {
   "cell_type": "code",
   "execution_count": 231,
   "metadata": {
    "collapsed": false
   },
   "outputs": [
    {
     "name": "stdout",
     "output_type": "stream",
     "text": [
      "0.750519441971\n",
      "0.601703940362\n"
     ]
    }
   ],
   "source": [
    "# Validation Accuracy\n",
    "scores = clf.predict(X_val)\n",
    "accuracy = sum(Y_val[i]==scores[i] for i in range(len(Y_val)))/len(Y_val)\n",
    "# Within 1 sentence for paragraph split\n",
    "p_split_accuracy = sum(scores[i-1] + scores[i] + scores[i+1] > 0 for i in range(len(Y_val)-1) if Y_val[i]==1)/(len([1 for val in Y_val if val ==1])-2)\n",
    "print(accuracy)\n",
    "print(p_split_accuracy)"
   ]
  },
  {
   "cell_type": "code",
   "execution_count": 233,
   "metadata": {
    "collapsed": false
   },
   "outputs": [],
   "source": [
    "with open('paragraph_model.pickle', 'wb') as handle:\n",
    "    pickle.dump(clf, handle, protocol=pickle.HIGHEST_PROTOCOL)"
   ]
  },
  {
   "cell_type": "code",
   "execution_count": 235,
   "metadata": {
    "collapsed": true
   },
   "outputs": [],
   "source": [
    "def segment_text(model, paras, max_splits=4):\n",
    "    \"\"\"Recursively segment the text into paragraphs.\"\"\"\n",
    "    if max_splits == 0:\n",
    "        return paras\n",
    "    for i in range(len(paras)):\n",
    "        x_pred, _ = make_training_vectors([paras[i]])\n",
    "        splits = model.predict(x_pred)\n",
    "        # Only retain first split\n",
    "        if 1 in splits[:-1]:\n",
    "            # Not terminating\n",
    "            sentences = sent_tokenize(paras[i])\n",
    "            split_ix = list(splits).index(1)\n",
    "            new_p = [' '.join(sentences[:split_ix]), ' '.join(sentences[split_ix:])]\n",
    "            new_ps = [p for p in paras[:i]] + new_p + [p for p in paras[i+1:]]\n",
    "            return segment_text(model, new_ps, max_splits-1)\n",
    "    return paras\n",
    "    "
   ]
  },
  {
   "cell_type": "code",
   "execution_count": 227,
   "metadata": {
    "collapsed": false
   },
   "outputs": [],
   "source": [
    "test_text = \"\"\"Motorola (which has been known as Lenovo Moto, but is now back to Motorola again) is the only brand left embracing a modular design. Need more battery? Snap on a Moto Mod battery pack. Want to up your entertainment game? Try on the speaker or projector Mod. With Google's Project Ara folded and LG's G5 experiment failed, the modular Moto Z could help decide Motorola's fate as a brand. The Moto Z family currently consists of the Moto Z, Moto Z Play, and Moto Z Force. In addition to the phones, Motorola has pledged to keep releasing Moto Mods at a rate of at least 12 a year. A next-gen Moto Z2 would help keep the Mods alive. Besides the rumored name, we haven't heard much else about the Moto Z2. The original Moto Z debuted last July, so we could be learn more about the phone in the next few months if the Moto Z follows an annual release schedule. In the meantime, there are plenty of new Moto Mods to keep your current Moto Z feeling fresh.\"\"\""
   ]
  },
  {
   "cell_type": "code",
   "execution_count": 238,
   "metadata": {
    "collapsed": false
   },
   "outputs": [
    {
     "data": {
      "text/plain": [
       "['Motorola (which has been known as Lenovo Moto, but is now back to Motorola again) is the only brand left embracing a modular design.',\n",
       " 'Need more battery? Snap on a Moto Mod battery pack. Want to up your entertainment game?',\n",
       " \"Try on the speaker or projector Mod. With Google's Project Ara folded and LG's G5 experiment failed, the modular Moto Z could help decide Motorola's fate as a brand. The Moto Z family currently consists of the Moto Z, Moto Z Play, and Moto Z Force. In addition to the phones, Motorola has pledged to keep releasing Moto Mods at a rate of at least 12 a year. A next-gen Moto Z2 would help keep the Mods alive. Besides the rumored name, we haven't heard much else about the Moto Z2. The original Moto Z debuted last July, so we could be learn more about the phone in the next few months if the Moto Z follows an annual release schedule. In the meantime, there are plenty of new Moto Mods to keep your current Moto Z feeling fresh.\"]"
      ]
     },
     "execution_count": 238,
     "metadata": {},
     "output_type": "execute_result"
    }
   ],
   "source": [
    "segment_text(clf, [test_text], 8)"
   ]
  },
  {
   "cell_type": "code",
   "execution_count": 244,
   "metadata": {
    "collapsed": false
   },
   "outputs": [
    {
     "data": {
      "text/plain": [
       "{'a': {'b': 1}}"
      ]
     },
     "execution_count": 244,
     "metadata": {},
     "output_type": "execute_result"
    }
   ],
   "source": [
    "import copy\n",
    "a = {'a': {'b': 1}}\n",
    "b = copy.deepcopy(a)\n",
    "b['a']['b'] = 2\n",
    "a"
   ]
  },
  {
   "cell_type": "code",
   "execution_count": null,
   "metadata": {
    "collapsed": true
   },
   "outputs": [],
   "source": []
  }
 ],
 "metadata": {
  "kernelspec": {
   "display_name": "Python 3",
   "language": "python",
   "name": "python3"
  },
  "language_info": {
   "codemirror_mode": {
    "name": "ipython",
    "version": 3
   },
   "file_extension": ".py",
   "mimetype": "text/x-python",
   "name": "python",
   "nbconvert_exporter": "python",
   "pygments_lexer": "ipython3",
   "version": "3.4.3"
  }
 },
 "nbformat": 4,
 "nbformat_minor": 2
}
